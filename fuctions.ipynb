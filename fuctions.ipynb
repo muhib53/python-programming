{
 "cells": [
  {
   "cell_type": "markdown",
   "id": "5caa9516",
   "metadata": {},
   "source": [
    "Let,s create a function(with docstring)"
   ]
  },
  {
   "cell_type": "code",
   "execution_count": 6,
   "id": "a92e9c62",
   "metadata": {},
   "outputs": [],
   "source": [
    "def greet(a = 13):\n",
    "    return a"
   ]
  },
  {
   "cell_type": "code",
   "execution_count": 8,
   "id": "ea91ff72",
   "metadata": {},
   "outputs": [
    {
     "name": "stdout",
     "output_type": "stream",
     "text": [
      "hellow welcome\n"
     ]
    }
   ],
   "source": [
    "a = \"hellow welcome\"\n",
    "print(a)"
   ]
  },
  {
   "cell_type": "code",
   "execution_count": 9,
   "id": "91adcef2",
   "metadata": {},
   "outputs": [],
   "source": [
    "# Syntax of Function\n",
    "\n",
    "def function_name(parameter):\n",
    "    \"\"\"docstring(optional)\"\"\"\n",
    "    return function_name"
   ]
  },
  {
   "cell_type": "code",
   "execution_count": 11,
   "id": "0a643f11",
   "metadata": {},
   "outputs": [],
   "source": [
    "def number(a,b):\n",
    "    result = a + b\n",
    "    return result\n",
    "    "
   ]
  },
  {
   "cell_type": "code",
   "execution_count": 13,
   "id": "f879091e",
   "metadata": {},
   "outputs": [
    {
     "name": "stdout",
     "output_type": "stream",
     "text": [
      "30\n"
     ]
    }
   ],
   "source": [
    "# Calling the function\n",
    "\n",
    "sum_result = number(10,20)\n",
    "\n",
    "print(sum_result)"
   ]
  },
  {
   "cell_type": "code",
   "execution_count": 14,
   "id": "fade0515",
   "metadata": {},
   "outputs": [],
   "source": [
    "def user():\n",
    "    print(\"Good morning\")"
   ]
  },
  {
   "cell_type": "code",
   "execution_count": 15,
   "id": "17bed7a3",
   "metadata": {},
   "outputs": [
    {
     "name": "stdout",
     "output_type": "stream",
     "text": [
      "Good morning\n"
     ]
    }
   ],
   "source": [
    "muhib = user()"
   ]
  },
  {
   "cell_type": "code",
   "execution_count": 18,
   "id": "cd8f77e8",
   "metadata": {},
   "outputs": [],
   "source": [
    "def pak(name):\n",
    "    print('hello',name)"
   ]
  },
  {
   "cell_type": "code",
   "execution_count": 21,
   "id": "64ed4d59",
   "metadata": {},
   "outputs": [
    {
     "name": "stdout",
     "output_type": "stream",
     "text": [
      "hello muhib\n",
      "hello ahmed\n"
     ]
    }
   ],
   "source": [
    "pak('muhib')\n",
    "pak('ahmed')"
   ]
  },
  {
   "cell_type": "code",
   "execution_count": 22,
   "id": "abdba426",
   "metadata": {},
   "outputs": [],
   "source": [
    "def square(num):\n",
    "    return num * num"
   ]
  },
  {
   "cell_type": "code",
   "execution_count": 23,
   "id": "92fed326",
   "metadata": {},
   "outputs": [
    {
     "name": "stdout",
     "output_type": "stream",
     "text": [
      "25\n"
     ]
    }
   ],
   "source": [
    "result = square(5)\n",
    "print(result)"
   ]
  },
  {
   "cell_type": "code",
   "execution_count": 24,
   "id": "dc375b85",
   "metadata": {},
   "outputs": [],
   "source": [
    "# Function with multiple parameters\n",
    "\n",
    "def Add_three_nums(a,b,c):\n",
    "    return a + b + c"
   ]
  },
  {
   "cell_type": "code",
   "execution_count": 26,
   "id": "db455873",
   "metadata": {},
   "outputs": [
    {
     "name": "stdout",
     "output_type": "stream",
     "text": [
      "60\n"
     ]
    }
   ],
   "source": [
    "asad = Add_three_nums(10,20,30)\n",
    "print(asad)"
   ]
  },
  {
   "cell_type": "code",
   "execution_count": 27,
   "id": "31506990",
   "metadata": {},
   "outputs": [],
   "source": [
    "# Default Parameters\n",
    "\n",
    "def pen(name = \"user\"):\n",
    "    print('Hello',name)"
   ]
  },
  {
   "cell_type": "code",
   "execution_count": 31,
   "id": "3eda8962",
   "metadata": {},
   "outputs": [
    {
     "name": "stdout",
     "output_type": "stream",
     "text": [
      "Hello user\n",
      "Hello muhib\n",
      "Hello i am writing in python\n"
     ]
    }
   ],
   "source": [
    "pen()\n",
    "pen(\"muhib\")\n",
    "pen(\"i am writing in python\")"
   ]
  },
  {
   "cell_type": "code",
   "execution_count": 33,
   "id": "3c944000",
   "metadata": {},
   "outputs": [],
   "source": [
    "# Keyword Arguments\n",
    "\n",
    "def info(name,age,marks):\n",
    "    return name , age,marks"
   ]
  },
  {
   "cell_type": "code",
   "execution_count": 35,
   "id": "f06ebf9b",
   "metadata": {},
   "outputs": [
    {
     "name": "stdout",
     "output_type": "stream",
     "text": [
      "('nasim', 15, 100)\n"
     ]
    }
   ],
   "source": [
    "information = info(\"nasim\",15,100)\n",
    "print(information)"
   ]
  },
  {
   "cell_type": "code",
   "execution_count": 36,
   "id": "f475db14",
   "metadata": {},
   "outputs": [],
   "source": [
    "# *args\n",
    "\n",
    "def add_numbers(*args):\n",
    "    print(sum(args))"
   ]
  },
  {
   "cell_type": "code",
   "execution_count": 37,
   "id": "84f6bf8d",
   "metadata": {},
   "outputs": [
    {
     "name": "stdout",
     "output_type": "stream",
     "text": [
      "54\n"
     ]
    }
   ],
   "source": [
    "add_numbers(20,11,23)"
   ]
  },
  {
   "cell_type": "code",
   "execution_count": 38,
   "id": "031b98e6",
   "metadata": {},
   "outputs": [],
   "source": [
    "# ** kwargs\n",
    "\n",
    "def using(**kwargs):\n",
    "    print(kwargs)"
   ]
  },
  {
   "cell_type": "code",
   "execution_count": null,
   "id": "4e5dc7d8",
   "metadata": {},
   "outputs": [],
   "source": [
    "# Types of Arguments\n",
    "# Default arguments\n",
    "# positional arguments\n",
    "# keyword Arguments"
   ]
  },
  {
   "cell_type": "code",
   "execution_count": 2,
   "id": "da3c89a2",
   "metadata": {},
   "outputs": [],
   "source": [
    "def power(a=1,b=1):\n",
    "    return a**b"
   ]
  },
  {
   "cell_type": "code",
   "execution_count": 3,
   "id": "1953e6cc",
   "metadata": {},
   "outputs": [
    {
     "data": {
      "text/plain": [
       "1"
      ]
     },
     "execution_count": 3,
     "metadata": {},
     "output_type": "execute_result"
    }
   ],
   "source": [
    "power()"
   ]
  },
  {
   "cell_type": "code",
   "execution_count": 4,
   "id": "145023d4",
   "metadata": {},
   "outputs": [
    {
     "data": {
      "text/plain": [
       "8"
      ]
     },
     "execution_count": 4,
     "metadata": {},
     "output_type": "execute_result"
    }
   ],
   "source": [
    "# positional arguments\n",
    "power(2,3)"
   ]
  },
  {
   "cell_type": "code",
   "execution_count": 5,
   "id": "1bfad9c1",
   "metadata": {},
   "outputs": [
    {
     "data": {
      "text/plain": [
       "8"
      ]
     },
     "execution_count": 5,
     "metadata": {},
     "output_type": "execute_result"
    }
   ],
   "source": [
    "# Keyword Arguments\n",
    "\n",
    "power(b=3,a=2)"
   ]
  },
  {
   "cell_type": "markdown",
   "id": "06692390",
   "metadata": {},
   "source": [
    "*args and **kwargs"
   ]
  },
  {
   "cell_type": "code",
   "execution_count": 13,
   "id": "44b9776c",
   "metadata": {},
   "outputs": [],
   "source": [
    "# *args\n",
    "\n",
    "def multiply(*args):\n",
    "    product = 1\n",
    "\n",
    "    for i in args:\n",
    "        product = product * i\n",
    "        print(args)\n",
    "        return product"
   ]
  },
  {
   "cell_type": "code",
   "execution_count": 14,
   "id": "a19d59e8",
   "metadata": {},
   "outputs": [
    {
     "name": "stdout",
     "output_type": "stream",
     "text": [
      "(1, 2, 3, 4, 5, 6, 7, 8, 9, 10, 11, 12)\n"
     ]
    },
    {
     "data": {
      "text/plain": [
       "1"
      ]
     },
     "execution_count": 14,
     "metadata": {},
     "output_type": "execute_result"
    }
   ],
   "source": [
    "multiply(1,2,3,4,5,6,7,8,9,10,11,12)"
   ]
  },
  {
   "cell_type": "code",
   "execution_count": null,
   "id": "100e0ca9",
   "metadata": {},
   "outputs": [],
   "source": [
    "# Positional arguments\n",
    "def student_info(name,age,city):\n",
    "    print('name',name)\n",
    "    print('age',age)\n",
    "    print('city',city)"
   ]
  },
  {
   "cell_type": "code",
   "execution_count": 16,
   "id": "9ea242c0",
   "metadata": {},
   "outputs": [
    {
     "name": "stdout",
     "output_type": "stream",
     "text": [
      "name asma\n",
      "age 14\n",
      "city bannu\n"
     ]
    }
   ],
   "source": [
    "# Functional call with positional arguments\n",
    "\n",
    "student_info('asma',14,'bannu')"
   ]
  },
  {
   "cell_type": "code",
   "execution_count": 17,
   "id": "e8c5371d",
   "metadata": {},
   "outputs": [],
   "source": [
    "def student_info(name,age,city):\n",
    "    return name,age,city"
   ]
  },
  {
   "cell_type": "code",
   "execution_count": 18,
   "id": "c61997a8",
   "metadata": {},
   "outputs": [
    {
     "data": {
      "text/plain": [
       "('muhib', 15, 'islamabad')"
      ]
     },
     "execution_count": 18,
     "metadata": {},
     "output_type": "execute_result"
    }
   ],
   "source": [
    "# function call\n",
    "student_info(age=15,name='muhib',city='islamabad')"
   ]
  },
  {
   "cell_type": "code",
   "execution_count": 19,
   "id": "73b5110c",
   "metadata": {},
   "outputs": [],
   "source": [
    "# Default Arguments\n",
    "\n",
    "def student(name,age=15,city='karachi'):\n",
    "    return name,age,city"
   ]
  },
  {
   "cell_type": "code",
   "execution_count": 22,
   "id": "e7dd964a",
   "metadata": {},
   "outputs": [
    {
     "data": {
      "text/plain": [
       "('fahim', 15, 'karachi')"
      ]
     },
     "execution_count": 22,
     "metadata": {},
     "output_type": "execute_result"
    }
   ],
   "source": [
    "student('fahim')"
   ]
  },
  {
   "cell_type": "code",
   "execution_count": 31,
   "id": "55391753",
   "metadata": {},
   "outputs": [],
   "source": [
    "def addition(*numbers):\n",
    "    total = 0\n",
    "    for num in numbers:\n",
    "        total += num\n",
    "        print(total)"
   ]
  },
  {
   "cell_type": "code",
   "execution_count": 32,
   "id": "b8d6bb35",
   "metadata": {},
   "outputs": [
    {
     "name": "stdout",
     "output_type": "stream",
     "text": [
      "5\n",
      "15\n",
      "30\n",
      "50\n"
     ]
    }
   ],
   "source": [
    "# Passing multiple arguments\n",
    "addition(5,10,15,20)"
   ]
  },
  {
   "cell_type": "code",
   "execution_count": 33,
   "id": "24535b89",
   "metadata": {},
   "outputs": [],
   "source": [
    "def teacher(**info):\n",
    "    for key,value in info.items():\n",
    "        print(key,value)"
   ]
  },
  {
   "cell_type": "code",
   "execution_count": 34,
   "id": "bcde13af",
   "metadata": {},
   "outputs": [
    {
     "name": "stdout",
     "output_type": "stream",
     "text": [
      "name rehan\n",
      "age 40\n",
      "city peshawar\n",
      "course python\n"
     ]
    }
   ],
   "source": [
    "teacher(name='rehan',age=40,city='peshawar',course='python')"
   ]
  },
  {
   "cell_type": "code",
   "execution_count": 36,
   "id": "3ff8d883",
   "metadata": {},
   "outputs": [
    {
     "name": "stdout",
     "output_type": "stream",
     "text": [
      "[1, 4, 9, 16, 25]\n"
     ]
    }
   ],
   "source": [
    "# using map() function\n",
    "\n",
    "def square(num):\n",
    "    return num * num\n",
    "\n",
    "numbers = [1,2,3,4,5]\n",
    "results = map(square,numbers)\n",
    "print(list(results))"
   ]
  },
  {
   "cell_type": "code",
   "execution_count": 39,
   "id": "87dd1655",
   "metadata": {},
   "outputs": [
    {
     "name": "stdout",
     "output_type": "stream",
     "text": [
      "[1, 4, 9, 16, 25]\n"
     ]
    }
   ],
   "source": [
    "# using map() with lambda function\n",
    "\n",
    "numbers = [1,2,3,4,5]\n",
    "result = map(lambda x: x**2,numbers)\n",
    "print(list(result))"
   ]
  },
  {
   "cell_type": "code",
   "execution_count": 41,
   "id": "8494808c",
   "metadata": {},
   "outputs": [
    {
     "name": "stdout",
     "output_type": "stream",
     "text": [
      "[2, 4, 6]\n"
     ]
    }
   ],
   "source": [
    "# Filter Function\n",
    "def is_even(num):\n",
    "    return num%2 ==0\n",
    "number = [1,2,3,4,5,6]\n",
    "result = filter(is_even,number)\n",
    "\n",
    "print(list(result))"
   ]
  }
 ],
 "metadata": {
  "kernelspec": {
   "display_name": "Python 3",
   "language": "python",
   "name": "python3"
  },
  "language_info": {
   "codemirror_mode": {
    "name": "ipython",
    "version": 3
   },
   "file_extension": ".py",
   "mimetype": "text/x-python",
   "name": "python",
   "nbconvert_exporter": "python",
   "pygments_lexer": "ipython3",
   "version": "3.12.4"
  }
 },
 "nbformat": 4,
 "nbformat_minor": 5
}
