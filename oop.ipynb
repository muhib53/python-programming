{
 "cells": [
  {
   "cell_type": "code",
   "execution_count": 5,
   "id": "409bbfe4",
   "metadata": {},
   "outputs": [
    {
     "name": "stdout",
     "output_type": "stream",
     "text": [
      "car brand:Toyota,car color:self.color\n",
      "car brand:Honda,car color:self.color\n"
     ]
    },
    {
     "data": {
      "text/plain": [
       "<__main__.car at 0x243be578d40>"
      ]
     },
     "execution_count": 5,
     "metadata": {},
     "output_type": "execute_result"
    }
   ],
   "source": [
    "# Class and object\n",
    "\n",
    "# Define a class\n",
    "class car:\n",
    "\n",
    "     # Attributes(properties)\n",
    "    def __init__(self,brand,color):\n",
    "        \n",
    "        self.brand = brand\n",
    "        self.color = color\n",
    "\n",
    "        print(f\"car brand:{self.brand},car color:{\"self.color\"}\")\n",
    "\n",
    "# Creats objects\n",
    "\n",
    "car1 = car(\"Toyota\",\"Red\")\n",
    "car2 = car(\"Honda\",'White')\n",
    "\n",
    "# Call method\n",
    "\n",
    "car1\n",
    "car2"
   ]
  },
  {
   "cell_type": "code",
   "execution_count": null,
   "id": "571bc536",
   "metadata": {},
   "outputs": [
    {
     "name": "stdout",
     "output_type": "stream",
     "text": [
      "name:muhib,age:14,grade:A\n"
     ]
    }
   ],
   "source": [
    "class student():\n",
    "    def __init__(self,name,age,grade): # Ya ek constructor hay.\n",
    "        self.name = name\n",
    "        self.age = age\n",
    "        self.grade = grade\n",
    "\n",
    "    def show_info(self):\n",
    "\n",
    "        print(f\"name:{self.name},age:{self.age},grade:{self.grade}\")\n",
    "\n",
    "stu1 = student(\"muhib\",14,\"A\")\n",
    "\n",
    "stu1.show_info()"
   ]
  },
  {
   "cell_type": "code",
   "execution_count": null,
   "id": "d73c3e29",
   "metadata": {},
   "outputs": [
    {
     "data": {
      "text/plain": [
       "<__main__.students at 0x243be710740>"
      ]
     },
     "execution_count": 17,
     "metadata": {},
     "output_type": "execute_result"
    }
   ],
   "source": [
    "class students():\n",
    "    def __init__(self,name,age):\n",
    "        self.name = name\n",
    "        self.age = age\n",
    "\n",
    "s1 = students(\"muhib\",18)\n",
    "students.__init__(s1,\"muhib\",18)\n"
   ]
  },
  {
   "cell_type": "code",
   "execution_count": 18,
   "id": "25ea0d50",
   "metadata": {},
   "outputs": [
    {
     "data": {
      "text/plain": [
       "<__main__.students at 0x243be710740>"
      ]
     },
     "execution_count": 18,
     "metadata": {},
     "output_type": "execute_result"
    }
   ],
   "source": [
    "s1"
   ]
  },
  {
   "cell_type": "code",
   "execution_count": 23,
   "id": "c4c72030",
   "metadata": {},
   "outputs": [
    {
     "name": "stdout",
     "output_type": "stream",
     "text": [
      "name:muhib,age:22,deapartment:HR\n",
      "name:fahim,age:20,deapartment:AI\n"
     ]
    }
   ],
   "source": [
    "class Teacher():\n",
    "    def __init__(self,name,age,deapartment):\n",
    "        self.name = name\n",
    "        self.age = age\n",
    "        self.deapartment = deapartment\n",
    "\n",
    "    def show_info(self):\n",
    "        print(f\"name:{self.name},age:{self.age},deapartment:{self.deapartment}\")\n",
    "\n",
    "# Create two object\n",
    "\n",
    "teach1 = Teacher('muhib',22,\"HR\")\n",
    "teach2 = Teacher(\"fahim\",20,\"AI\")\n",
    "\n",
    "teach1.show_info()\n",
    "teach2.show_info()"
   ]
  },
  {
   "cell_type": "code",
   "execution_count": 1,
   "id": "c8faad88",
   "metadata": {},
   "outputs": [
    {
     "name": "stdout",
     "output_type": "stream",
     "text": [
      "name:fahim,age:12\n",
      "name:atik,age:17\n"
     ]
    }
   ],
   "source": [
    "# Class variables\n",
    "\n",
    "class student:\n",
    "    school_name = \"Artifical Intelligence\"\n",
    "\n",
    "    def __init__(self,name,age):\n",
    "        \n",
    "        self.name = name\n",
    "        self.age = age\n",
    "\n",
    "    def show_info(self):\n",
    "        print(f\"name:{self.name},age:{self.age}\")\n",
    "DS = student(\"fahim\",12)\n",
    "AI = student(\"atik\",17)\n",
    "\n",
    "student.school_name = \"Data Science\"\n",
    "DS.show_info()\n",
    "AI.show_info()"
   ]
  },
  {
   "cell_type": "code",
   "execution_count": null,
   "id": "3bbe2fbf",
   "metadata": {},
   "outputs": [],
   "source": []
  }
 ],
 "metadata": {
  "kernelspec": {
   "display_name": "Python 3",
   "language": "python",
   "name": "python3"
  },
  "language_info": {
   "codemirror_mode": {
    "name": "ipython",
    "version": 3
   },
   "file_extension": ".py",
   "mimetype": "text/x-python",
   "name": "python",
   "nbconvert_exporter": "python",
   "pygments_lexer": "ipython3",
   "version": "3.12.4"
  }
 },
 "nbformat": 4,
 "nbformat_minor": 5
}
