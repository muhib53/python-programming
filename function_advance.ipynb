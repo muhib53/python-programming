{
 "cells": [
  {
   "cell_type": "code",
   "execution_count": 3,
   "id": "9d222ab6",
   "metadata": {},
   "outputs": [],
   "source": [
    "def add(a,b):\n",
    "    return a + b"
   ]
  },
  {
   "cell_type": "code",
   "execution_count": 5,
   "id": "fe909167",
   "metadata": {},
   "outputs": [
    {
     "name": "stdout",
     "output_type": "stream",
     "text": [
      "8\n"
     ]
    }
   ],
   "source": [
    "result = add(5,3)\n",
    "print(result)"
   ]
  },
  {
   "cell_type": "code",
   "execution_count": 8,
   "id": "054c8bb5",
   "metadata": {},
   "outputs": [
    {
     "name": "stdout",
     "output_type": "stream",
     "text": [
      "9\n",
      "None\n"
     ]
    }
   ],
   "source": [
    "def print_add(c,d):\n",
    "    print(c+d)\n",
    "\n",
    "x = print_add(4,5)\n",
    "print(x)"
   ]
  },
  {
   "cell_type": "code",
   "execution_count": 22,
   "id": "869dac48",
   "metadata": {},
   "outputs": [],
   "source": [
    "# Nested Function\n",
    "\n",
    "def outer():\n",
    "    print(\"This is outer function\")\n",
    "def inner():\n",
    "        print(\"This is inner function\")"
   ]
  },
  {
   "cell_type": "code",
   "execution_count": 23,
   "id": "abd573b8",
   "metadata": {},
   "outputs": [
    {
     "name": "stdout",
     "output_type": "stream",
     "text": [
      "This is outer function\n",
      "This is inner function\n"
     ]
    }
   ],
   "source": [
    "outer()\n",
    "inner()"
   ]
  },
  {
   "cell_type": "code",
   "execution_count": 24,
   "id": "1e289181",
   "metadata": {},
   "outputs": [],
   "source": [
    "def sky(a = \"This is a nested function\"):\n",
    "    return a"
   ]
  },
  {
   "cell_type": "code",
   "execution_count": 27,
   "id": "12d54254",
   "metadata": {},
   "outputs": [
    {
     "name": "stdout",
     "output_type": "stream",
     "text": [
      "This is a nested function\n"
     ]
    }
   ],
   "source": [
    "ds = sky()\n",
    "print(ds)"
   ]
  },
  {
   "cell_type": "code",
   "execution_count": 37,
   "id": "02c9cf49",
   "metadata": {},
   "outputs": [],
   "source": [
    "# Global vs Local variables\n",
    "\n",
    "x = 10 # Global variable\n",
    "\n",
    "def show():\n",
    "     # Local variable\n",
    "    \n",
    "    y = 5\n",
    "\n",
    "    print(\"Inside function:\",x)\n",
    "\n",
    "    show()\n",
    "    print(\"outside function:\",y)\n"
   ]
  },
  {
   "cell_type": "code",
   "execution_count": null,
   "id": "6ab8e2c2",
   "metadata": {},
   "outputs": [],
   "source": [
    "x = 10\n",
    "\n",
    "def modify():\n",
    "    global x\n",
    "    x = 20\n",
    "\n",
    "    modify()\n",
    "    print(x)\n",
    "    "
   ]
  },
  {
   "cell_type": "code",
   "execution_count": null,
   "id": "e67638e2",
   "metadata": {},
   "outputs": [
    {
     "name": "stdout",
     "output_type": "stream",
     "text": [
      "<class 'int'>\n",
      "<class 'int'>\n"
     ]
    }
   ],
   "source": [
    "# Data Types in Python\n",
    "# Integer\n",
    "a = 10\n",
    "print(type(a))\n",
    "\n",
    "b = 3+4\n",
    "print(type(b))"
   ]
  },
  {
   "cell_type": "code",
   "execution_count": 13,
   "id": "455dd66e",
   "metadata": {},
   "outputs": [
    {
     "name": "stdout",
     "output_type": "stream",
     "text": [
      "<class 'float'>\n",
      "<class 'float'>\n",
      "<class 'float'>\n"
     ]
    }
   ],
   "source": [
    "# float\n",
    "\n",
    "c = 5.4\n",
    "print(type(c))\n",
    "\n",
    "wheight = 3.2\n",
    "cgpa = 3.4\n",
    "\n",
    "print(type(wheight))\n",
    "print(type(cgpa))"
   ]
  },
  {
   "cell_type": "code",
   "execution_count": 15,
   "id": "1a5b730e",
   "metadata": {},
   "outputs": [
    {
     "name": "stdout",
     "output_type": "stream",
     "text": [
      "<class 'str'>\n",
      "<class 'str'>\n",
      "<class 'str'>\n"
     ]
    }
   ],
   "source": [
    "# String(str)\n",
    "\n",
    "name = \"Muhib Khan\" \n",
    "print(type(name))\n",
    "\n",
    "colege = \"Sk bala\"\n",
    "Deapartment = \"Artifical Intelligence\"\n",
    "\n",
    "print(type(colege))\n",
    "print(type(Deapartment))"
   ]
  },
  {
   "cell_type": "code",
   "execution_count": 16,
   "id": "b6b4d4f5",
   "metadata": {},
   "outputs": [
    {
     "name": "stdout",
     "output_type": "stream",
     "text": [
      "<class 'bool'>\n",
      "<class 'bool'>\n"
     ]
    }
   ],
   "source": [
    "# Boolean(bool)\n",
    "\n",
    "muhib = True\n",
    "age = False\n",
    "\n",
    "print(type(muhib))\n",
    "print(type(False))\n",
    "\n"
   ]
  },
  {
   "cell_type": "code",
   "execution_count": 19,
   "id": "86810dd5",
   "metadata": {},
   "outputs": [
    {
     "name": "stdout",
     "output_type": "stream",
     "text": [
      "('Data Science', 4, 5, 4.2, True)\n",
      "<class 'tuple'>\n"
     ]
    }
   ],
   "source": [
    "together = \"Data Science\",4,5,4.2,True\n",
    "print(together)\n",
    "print(type(together))"
   ]
  },
  {
   "cell_type": "code",
   "execution_count": null,
   "id": "4fe6c2c9",
   "metadata": {},
   "outputs": [],
   "source": []
  }
 ],
 "metadata": {
  "kernelspec": {
   "display_name": "Python 3",
   "language": "python",
   "name": "python3"
  },
  "language_info": {
   "codemirror_mode": {
    "name": "ipython",
    "version": 3
   },
   "file_extension": ".py",
   "mimetype": "text/x-python",
   "name": "python",
   "nbconvert_exporter": "python",
   "pygments_lexer": "ipython3",
   "version": "3.12.4"
  }
 },
 "nbformat": 4,
 "nbformat_minor": 5
}
