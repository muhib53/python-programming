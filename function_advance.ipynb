{
 "cells": [
  {
   "cell_type": "code",
   "execution_count": 3,
   "id": "9d222ab6",
   "metadata": {},
   "outputs": [],
   "source": [
    "def add(a,b):\n",
    "    return a + b"
   ]
  },
  {
   "cell_type": "code",
   "execution_count": 5,
   "id": "fe909167",
   "metadata": {},
   "outputs": [
    {
     "name": "stdout",
     "output_type": "stream",
     "text": [
      "8\n"
     ]
    }
   ],
   "source": [
    "result = add(5,3)\n",
    "print(result)"
   ]
  },
  {
   "cell_type": "code",
   "execution_count": 8,
   "id": "054c8bb5",
   "metadata": {},
   "outputs": [
    {
     "name": "stdout",
     "output_type": "stream",
     "text": [
      "9\n",
      "None\n"
     ]
    }
   ],
   "source": [
    "def print_add(c,d):\n",
    "    print(c+d)\n",
    "\n",
    "x = print_add(4,5)\n",
    "print(x)"
   ]
  },
  {
   "cell_type": "code",
   "execution_count": 22,
   "id": "869dac48",
   "metadata": {},
   "outputs": [],
   "source": [
    "# Nested Function\n",
    "\n",
    "def outer():\n",
    "    print(\"This is outer function\")\n",
    "def inner():\n",
    "        print(\"This is inner function\")"
   ]
  },
  {
   "cell_type": "code",
   "execution_count": 23,
   "id": "abd573b8",
   "metadata": {},
   "outputs": [
    {
     "name": "stdout",
     "output_type": "stream",
     "text": [
      "This is outer function\n",
      "This is inner function\n"
     ]
    }
   ],
   "source": [
    "outer()\n",
    "inner()"
   ]
  },
  {
   "cell_type": "code",
   "execution_count": 24,
   "id": "1e289181",
   "metadata": {},
   "outputs": [],
   "source": [
    "def sky(a = \"This is a nested function\"):\n",
    "    return a"
   ]
  },
  {
   "cell_type": "code",
   "execution_count": 27,
   "id": "12d54254",
   "metadata": {},
   "outputs": [
    {
     "name": "stdout",
     "output_type": "stream",
     "text": [
      "This is a nested function\n"
     ]
    }
   ],
   "source": [
    "ds = sky()\n",
    "print(ds)"
   ]
  },
  {
   "cell_type": "code",
   "execution_count": 37,
   "id": "02c9cf49",
   "metadata": {},
   "outputs": [],
   "source": [
    "# Global vs Local variables\n",
    "\n",
    "x = 10 # Global variable\n",
    "\n",
    "def show():\n",
    "     # Local variable\n",
    "    \n",
    "    y = 5\n",
    "\n",
    "    print(\"Inside function:\",x)\n",
    "\n",
    "    show()\n",
    "    print(\"outside function:\",y)\n"
   ]
  },
  {
   "cell_type": "code",
   "execution_count": null,
   "id": "6ab8e2c2",
   "metadata": {},
   "outputs": [],
   "source": [
    "x = 10\n",
    "\n",
    "def modify():\n",
    "    global x\n",
    "    x = 20\n",
    "\n",
    "    modify()\n",
    "    print(x)\n",
    "    "
   ]
  }
 ],
 "metadata": {
  "kernelspec": {
   "display_name": "Python 3",
   "language": "python",
   "name": "python3"
  },
  "language_info": {
   "codemirror_mode": {
    "name": "ipython",
    "version": 3
   },
   "file_extension": ".py",
   "mimetype": "text/x-python",
   "name": "python",
   "nbconvert_exporter": "python",
   "pygments_lexer": "ipython3",
   "version": "3.12.4"
  }
 },
 "nbformat": 4,
 "nbformat_minor": 5
}
