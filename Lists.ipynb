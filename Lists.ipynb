{
 "cells": [
  {
   "cell_type": "code",
   "execution_count": 3,
   "id": "61236f2b",
   "metadata": {},
   "outputs": [
    {
     "name": "stdout",
     "output_type": "stream",
     "text": [
      "['Apple', 'banana', 'Orange']\n"
     ]
    }
   ],
   "source": [
    "fruits = [\"Apple\",\"banana\",\"Orange\"]\n",
    "print(fruits)"
   ]
  },
  {
   "cell_type": "code",
   "execution_count": null,
   "id": "12661d5b",
   "metadata": {},
   "outputs": [
    {
     "name": "stdout",
     "output_type": "stream",
     "text": [
      "Apple\n",
      "banana\n",
      "Orange\n"
     ]
    }
   ],
   "source": [
    "# Accessing Elements\n",
    "print(fruits[0])\n",
    "print(fruits[1])\n",
    "print(fruits[2])"
   ]
  },
  {
   "cell_type": "code",
   "execution_count": 9,
   "id": "c6c06cec",
   "metadata": {},
   "outputs": [
    {
     "name": "stdout",
     "output_type": "stream",
     "text": [
      "Orange\n",
      "banana\n"
     ]
    }
   ],
   "source": [
    "# Negative indexing\n",
    "\n",
    "print(fruits[-1])\n",
    "print(fruits[-2])"
   ]
  },
  {
   "cell_type": "code",
   "execution_count": 13,
   "id": "f0168829",
   "metadata": {},
   "outputs": [
    {
     "name": "stdout",
     "output_type": "stream",
     "text": [
      "['potato', 'mango', 'Onine']\n"
     ]
    }
   ],
   "source": [
    "# Changing list Elements\n",
    "\n",
    "vegetables = [\"potato\",\"tomato\",\"Onine\"]\n",
    "\n",
    "vegetables[-2] = \"mango\"\n",
    "print(vegetables)"
   ]
  },
  {
   "cell_type": "code",
   "execution_count": 17,
   "id": "17572f1d",
   "metadata": {},
   "outputs": [
    {
     "name": "stdout",
     "output_type": "stream",
     "text": [
      "[20, 30, 40]\n",
      "[10, 20, 30]\n",
      "[30, 40, 50, 60]\n",
      "[10, 30, 50]\n"
     ]
    }
   ],
   "source": [
    "# Slicing in List\n",
    "\n",
    "numbers = [10,20,30,40,50,60]\n",
    "\n",
    "print(numbers[1:4])\n",
    "print(numbers[:3])\n",
    "print(numbers[2:])\n",
    "print(numbers[::2])"
   ]
  },
  {
   "cell_type": "code",
   "execution_count": 19,
   "id": "158c699c",
   "metadata": {},
   "outputs": [
    {
     "name": "stdout",
     "output_type": "stream",
     "text": [
      "['apple', 'mango', 'cherry']\n"
     ]
    }
   ],
   "source": [
    "# append\n",
    "fruit = [\"apple\",\"mango\"]\n",
    "fruit.append(\"cherry\")\n",
    "print(fruit)"
   ]
  },
  {
   "cell_type": "code",
   "execution_count": 21,
   "id": "b841dc29",
   "metadata": {},
   "outputs": [
    {
     "name": "stdout",
     "output_type": "stream",
     "text": [
      "['apple', 'cherry', 'mango']\n"
     ]
    }
   ],
   "source": [
    "fruit = [\"apple\",\"mango\"]\n",
    "fruit.insert(1,\"cherry\")\n",
    "print(fruit)"
   ]
  },
  {
   "cell_type": "code",
   "execution_count": null,
   "id": "cbaff5af",
   "metadata": {},
   "outputs": [
    {
     "name": "stdout",
     "output_type": "stream",
     "text": [
      "[1, 2, 3, 4, 5, 6]\n"
     ]
    }
   ],
   "source": [
    "# extend() combine two list\n",
    "a = [1,2,3]\n",
    "b = [4,5,6]\n",
    "\n",
    "a.extend(b)\n",
    "\n",
    "print(a)"
   ]
  },
  {
   "cell_type": "code",
   "execution_count": 25,
   "id": "195fc364",
   "metadata": {},
   "outputs": [
    {
     "name": "stdout",
     "output_type": "stream",
     "text": [
      "['tomato', 'Onine']\n"
     ]
    }
   ],
   "source": [
    "# remove() hatana\n",
    "vegetables = [\"potato\",\"tomato\",\"Onine\"]\n",
    "vegetables.remove(\"potato\")\n",
    "print(vegetables)"
   ]
  },
  {
   "cell_type": "code",
   "execution_count": 26,
   "id": "675c1235",
   "metadata": {},
   "outputs": [
    {
     "name": "stdout",
     "output_type": "stream",
     "text": [
      "tomato\n"
     ]
    }
   ],
   "source": [
    "vegetables = [\"potato\",\"tomato\",\"Onine\"]\n",
    "x = vegetables.pop(1)\n",
    "print(x)"
   ]
  },
  {
   "cell_type": "code",
   "execution_count": null,
   "id": "02a4db36",
   "metadata": {},
   "outputs": [
    {
     "name": "stdout",
     "output_type": "stream",
     "text": [
      "[]\n"
     ]
    }
   ],
   "source": [
    "# clear() sab elements ko delete karta hay\n",
    "vegetables = [\"potato\",\"tomato\",\"Onine\"]\n",
    "vegetables.clear()\n",
    "print(vegetables)"
   ]
  },
  {
   "cell_type": "code",
   "execution_count": 28,
   "id": "047de48e",
   "metadata": {},
   "outputs": [
    {
     "name": "stdout",
     "output_type": "stream",
     "text": [
      "1\n"
     ]
    }
   ],
   "source": [
    "# Index() index number return karta hay\n",
    "\n",
    "vegetables = [\"potato\",\"tomato\",\"Onine\"]\n",
    "\n",
    "print(vegetables.index(\"tomato\"))"
   ]
  },
  {
   "cell_type": "code",
   "execution_count": 30,
   "id": "049fda20",
   "metadata": {},
   "outputs": [
    {
     "name": "stdout",
     "output_type": "stream",
     "text": [
      "1\n"
     ]
    }
   ],
   "source": [
    "# count() repetition count karta hay\n",
    "\n",
    "nums = [1,2,3,3,4,5]\n",
    "print(nums.count(1))"
   ]
  },
  {
   "cell_type": "code",
   "execution_count": 35,
   "id": "2b982923",
   "metadata": {},
   "outputs": [
    {
     "name": "stdout",
     "output_type": "stream",
     "text": [
      "[10, 20, 30, 50]\n"
     ]
    }
   ],
   "source": [
    "# sort() ascending order\n",
    "\n",
    "number = [50,10,30,20]\n",
    "number.sort()\n",
    "print(number)"
   ]
  },
  {
   "cell_type": "code",
   "execution_count": 37,
   "id": "509b6003",
   "metadata": {},
   "outputs": [
    {
     "name": "stdout",
     "output_type": "stream",
     "text": [
      "['a', 'b', 'f', 'm', 'n', 'w']\n"
     ]
    }
   ],
   "source": [
    "text = ['a','b','f','n','w','m']\n",
    "text.sort()\n",
    "print(text)"
   ]
  },
  {
   "cell_type": "code",
   "execution_count": 38,
   "id": "312e03e0",
   "metadata": {},
   "outputs": [
    {
     "name": "stdout",
     "output_type": "stream",
     "text": [
      "[1, 2, 3]\n"
     ]
    }
   ],
   "source": [
    "# copy()\n",
    "\n",
    "a = [1,2,3]\n",
    "b = a.copy()\n",
    "print(b)"
   ]
  },
  {
   "cell_type": "code",
   "execution_count": 39,
   "id": "9786de65",
   "metadata": {},
   "outputs": [
    {
     "name": "stdout",
     "output_type": "stream",
     "text": [
      "potato\n",
      "tomato\n",
      "Onine\n"
     ]
    }
   ],
   "source": [
    "# loop throght a list\n",
    "\n",
    "vegetables = [\"potato\",\"tomato\",\"Onine\"]\n",
    "for vegetables in vegetables:\n",
    "    print(vegetables)"
   ]
  },
  {
   "cell_type": "code",
   "execution_count": 41,
   "id": "0ed226ac",
   "metadata": {},
   "outputs": [
    {
     "name": "stdout",
     "output_type": "stream",
     "text": [
      "potato is present\n"
     ]
    }
   ],
   "source": [
    "vegetables = [\"potato\",\"tomato\",\"Onine\"]\n",
    "\n",
    "if \"potato\" in vegetables:\n",
    "    print('potato is present')"
   ]
  },
  {
   "cell_type": "code",
   "execution_count": 42,
   "id": "8ac7fe72",
   "metadata": {},
   "outputs": [
    {
     "name": "stdout",
     "output_type": "stream",
     "text": [
      "3\n"
     ]
    }
   ],
   "source": [
    "vegetables = [\"potato\",\"tomato\",\"Onine\"]\n",
    "\n",
    "print(len(vegetables))"
   ]
  },
  {
   "cell_type": "code",
   "execution_count": 45,
   "id": "a93120bb",
   "metadata": {},
   "outputs": [
    {
     "name": "stdout",
     "output_type": "stream",
     "text": [
      "2\n",
      "c\n"
     ]
    }
   ],
   "source": [
    "nested = [[1,2,3],['a','b','c']]\n",
    "\n",
    "print(nested[0][1])\n",
    "print(nested[1][2])"
   ]
  },
  {
   "cell_type": "code",
   "execution_count": null,
   "id": "abf1d0bc",
   "metadata": {},
   "outputs": [
    {
     "name": "stdout",
     "output_type": "stream",
     "text": [
      "[1, 2, 3, 4]\n"
     ]
    }
   ],
   "source": [
    "a = [1,2]\n",
    "b = [3,4]\n",
    "  \n",
    "c = a + b\n",
    "print(c)"
   ]
  }
 ],
 "metadata": {
  "kernelspec": {
   "display_name": "Python 3",
   "language": "python",
   "name": "python3"
  },
  "language_info": {
   "codemirror_mode": {
    "name": "ipython",
    "version": 3
   },
   "file_extension": ".py",
   "mimetype": "text/x-python",
   "name": "python",
   "nbconvert_exporter": "python",
   "pygments_lexer": "ipython3",
   "version": "3.12.4"
  }
 },
 "nbformat": 4,
 "nbformat_minor": 5
}
