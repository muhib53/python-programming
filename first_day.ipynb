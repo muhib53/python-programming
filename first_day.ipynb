{
 "cells": [
  {
   "cell_type": "code",
   "execution_count": 1,
   "id": "b05b4fb1",
   "metadata": {},
   "outputs": [
    {
     "name": "stdout",
     "output_type": "stream",
     "text": [
      "Hello world!\n"
     ]
    }
   ],
   "source": [
    "# Python Syntax\n",
    "\n",
    "print(\"Hello world!\")"
   ]
  },
  {
   "cell_type": "code",
   "execution_count": 5,
   "id": "7f21d9ba",
   "metadata": {},
   "outputs": [
    {
     "name": "stdout",
     "output_type": "stream",
     "text": [
      "5.6\n"
     ]
    }
   ],
   "source": [
    "print(5.6)"
   ]
  },
  {
   "cell_type": "code",
   "execution_count": 6,
   "id": "33d8a731",
   "metadata": {},
   "outputs": [
    {
     "name": "stdout",
     "output_type": "stream",
     "text": [
      "4 5\n"
     ]
    }
   ],
   "source": [
    "print(4,5)"
   ]
  },
  {
   "cell_type": "code",
   "execution_count": 7,
   "id": "f7bc8608",
   "metadata": {},
   "outputs": [
    {
     "name": "stdout",
     "output_type": "stream",
     "text": [
      "False\n"
     ]
    }
   ],
   "source": [
    "print(False)"
   ]
  },
  {
   "cell_type": "code",
   "execution_count": 8,
   "id": "c9505d53",
   "metadata": {},
   "outputs": [
    {
     "name": "stdout",
     "output_type": "stream",
     "text": [
      "india pakistan america astralya\n"
     ]
    }
   ],
   "source": [
    "print('india','pakistan','america','astralya')"
   ]
  },
  {
   "cell_type": "code",
   "execution_count": null,
   "id": "a2ff21d0",
   "metadata": {},
   "outputs": [
    {
     "name": "stdout",
     "output_type": "stream",
     "text": [
      "pakistna 5 True\n"
     ]
    }
   ],
   "source": [
    "print('pakistna',5,True) "
   ]
  },
  {
   "cell_type": "code",
   "execution_count": 12,
   "id": "111235e8",
   "metadata": {},
   "outputs": [
    {
     "name": "stdout",
     "output_type": "stream",
     "text": [
      "india/pakistan/america/astralya\n"
     ]
    }
   ],
   "source": [
    "print('india','pakistan','america','astralya',sep='/')"
   ]
  },
  {
   "cell_type": "code",
   "execution_count": 13,
   "id": "cf2f69a7",
   "metadata": {},
   "outputs": [
    {
     "name": "stdout",
     "output_type": "stream",
     "text": [
      "india-pakistan-america-astralya\n"
     ]
    }
   ],
   "source": [
    "print('india','pakistan','america','astralya',sep='-')"
   ]
  },
  {
   "cell_type": "code",
   "execution_count": 14,
   "id": "4b2dd5c6",
   "metadata": {},
   "outputs": [
    {
     "name": "stdout",
     "output_type": "stream",
     "text": [
      "hello\n",
      "world\n"
     ]
    }
   ],
   "source": [
    "print('hello')\n",
    "print('world')"
   ]
  },
  {
   "cell_type": "code",
   "execution_count": 16,
   "id": "f924f50b",
   "metadata": {},
   "outputs": [
    {
     "name": "stdout",
     "output_type": "stream",
     "text": [
      "hello,world\n"
     ]
    }
   ],
   "source": [
    "print('hello',end=',')\n",
    "print('world')"
   ]
  },
  {
   "cell_type": "code",
   "execution_count": 18,
   "id": "84364f9d",
   "metadata": {},
   "outputs": [
    {
     "name": "stdout",
     "output_type": "stream",
     "text": [
      "4\n",
      "inf\n"
     ]
    }
   ],
   "source": [
    "# Integer\n",
    "print(4)\n",
    "\n",
    "print(1e309)"
   ]
  },
  {
   "cell_type": "code",
   "execution_count": 20,
   "id": "06d3e062",
   "metadata": {},
   "outputs": [
    {
     "name": "stdout",
     "output_type": "stream",
     "text": [
      "3.3\n",
      "1.7e+308\n"
     ]
    }
   ],
   "source": [
    "# float\n",
    "\n",
    "print(3.3)\n",
    "\n",
    "print(1.7e308)"
   ]
  },
  {
   "cell_type": "code",
   "execution_count": 21,
   "id": "82067d39",
   "metadata": {},
   "outputs": [
    {
     "name": "stdout",
     "output_type": "stream",
     "text": [
      "True\n",
      "False\n"
     ]
    }
   ],
   "source": [
    "# Boolean\n",
    "\n",
    "print(True)\n",
    "print(False)"
   ]
  },
  {
   "cell_type": "code",
   "execution_count": 22,
   "id": "36402292",
   "metadata": {},
   "outputs": [
    {
     "name": "stdout",
     "output_type": "stream",
     "text": [
      "(4+5j)\n"
     ]
    }
   ],
   "source": [
    "# complex\n",
    "print(4+5j)"
   ]
  },
  {
   "cell_type": "code",
   "execution_count": 23,
   "id": "f1a91d2c",
   "metadata": {},
   "outputs": [
    {
     "name": "stdout",
     "output_type": "stream",
     "text": [
      "I am learn from python\n",
      "hello python\n",
      "data science\n"
     ]
    }
   ],
   "source": [
    "# String\n",
    "print(\"I am learn from python\")\n",
    "print('hello python')\n",
    "print(\"\"\"data science\"\"\")"
   ]
  },
  {
   "cell_type": "code",
   "execution_count": 24,
   "id": "8a8bc633",
   "metadata": {},
   "outputs": [
    {
     "name": "stdout",
     "output_type": "stream",
     "text": [
      "[1, 2, 3, 4, 5]\n"
     ]
    }
   ],
   "source": [
    "# List\n",
    "print([1,2,3,4,5])"
   ]
  },
  {
   "cell_type": "code",
   "execution_count": 25,
   "id": "42d6bd02",
   "metadata": {},
   "outputs": [
    {
     "name": "stdout",
     "output_type": "stream",
     "text": [
      "(10, 20, 30, 40)\n"
     ]
    }
   ],
   "source": [
    "# Tuples\n",
    "print((10,20,30,40))"
   ]
  },
  {
   "cell_type": "code",
   "execution_count": 26,
   "id": "5141206d",
   "metadata": {},
   "outputs": [
    {
     "name": "stdout",
     "output_type": "stream",
     "text": [
      "{1, 2, 3, 4, 5}\n"
     ]
    }
   ],
   "source": [
    "# Sets\n",
    "print({1,2,3,4,5})"
   ]
  },
  {
   "cell_type": "code",
   "execution_count": 27,
   "id": "8905bec3",
   "metadata": {},
   "outputs": [
    {
     "name": "stdout",
     "output_type": "stream",
     "text": [
      "{'Name': 'muhib', 'age': 12, 'gender': 'male'}\n"
     ]
    }
   ],
   "source": [
    "# Dict\n",
    "print({'Name':'muhib','age':12,'gender':'male'})"
   ]
  },
  {
   "cell_type": "code",
   "execution_count": 3,
   "id": "2a0b23e6",
   "metadata": {},
   "outputs": [],
   "source": [
    "def pak():\n",
    "    return \"pakistan\"\n",
    "\n"
   ]
  },
  {
   "cell_type": "code",
   "execution_count": 4,
   "id": "6ea010c5",
   "metadata": {},
   "outputs": [
    {
     "name": "stdout",
     "output_type": "stream",
     "text": [
      "pakistan\n"
     ]
    }
   ],
   "source": [
    "a = pak()\n",
    "print(a)"
   ]
  },
  {
   "cell_type": "code",
   "execution_count": 6,
   "id": "775703f4",
   "metadata": {},
   "outputs": [],
   "source": [
    "def Pay():\n",
    "\n",
    "    return \"muhib\""
   ]
  },
  {
   "cell_type": "code",
   "execution_count": 8,
   "id": "a2435855",
   "metadata": {},
   "outputs": [
    {
     "name": "stdout",
     "output_type": "stream",
     "text": [
      "muhib\n"
     ]
    }
   ],
   "source": [
    "a = Pay()\n",
    "print(a)"
   ]
  },
  {
   "cell_type": "code",
   "execution_count": 14,
   "id": "90531aed",
   "metadata": {},
   "outputs": [],
   "source": [
    "# parameter\n",
    "\n",
    "def Atm(a=3):\n",
    "\n",
    "    return a"
   ]
  },
  {
   "cell_type": "code",
   "execution_count": 15,
   "id": "fd3a1750",
   "metadata": {},
   "outputs": [
    {
     "name": "stdout",
     "output_type": "stream",
     "text": [
      "3\n"
     ]
    }
   ],
   "source": [
    "a = Atm()\n",
    "print(a)"
   ]
  },
  {
   "cell_type": "code",
   "execution_count": 16,
   "id": "b40b3c69",
   "metadata": {},
   "outputs": [],
   "source": [
    "# argument\n",
    "\n",
    "def muhib(a):\n",
    "\n",
    "    return a"
   ]
  },
  {
   "cell_type": "code",
   "execution_count": null,
   "id": "fac6e6e5",
   "metadata": {},
   "outputs": [
    {
     "name": "stdout",
     "output_type": "stream",
     "text": [
      "fahim\n"
     ]
    }
   ],
   "source": [
    "f = muhib(\"fahim\")\n",
    "print(f)"
   ]
  },
  {
   "cell_type": "code",
   "execution_count": null,
   "id": "635128bf",
   "metadata": {},
   "outputs": [],
   "source": [
    "# Write a funtions that return addition of three numbers. Make sure you pass three numbers as argument\n",
    "# Write a funtions that return addition of three numbers. Make sure you pass three numbers as parameters"
   ]
  },
  {
   "cell_type": "code",
   "execution_count": 67,
   "id": "29ed1b20",
   "metadata": {},
   "outputs": [],
   "source": [
    "# Function banana\n",
    "def science():\n",
    "    return \"i am learn from python\"\n"
   ]
  },
  {
   "cell_type": "code",
   "execution_count": 68,
   "id": "e579fbeb",
   "metadata": {},
   "outputs": [
    {
     "name": "stdout",
     "output_type": "stream",
     "text": [
      "i am learn from python\n"
     ]
    }
   ],
   "source": [
    "a = science()\n",
    "print(a)"
   ]
  },
  {
   "cell_type": "code",
   "execution_count": 80,
   "id": "774e2e59",
   "metadata": {},
   "outputs": [],
   "source": [
    "def Add(a,b,c):\n",
    "    return a + b + c"
   ]
  },
  {
   "cell_type": "code",
   "execution_count": 83,
   "id": "c35be03b",
   "metadata": {},
   "outputs": [
    {
     "name": "stdout",
     "output_type": "stream",
     "text": [
      "30\n"
     ]
    }
   ],
   "source": [
    "a = Add(10,10,10)\n",
    "print(a)"
   ]
  },
  {
   "cell_type": "code",
   "execution_count": 101,
   "id": "84c839f8",
   "metadata": {},
   "outputs": [],
   "source": [
    "def sum(a=10,b=20,c=30):\n",
    "    return a + b + c"
   ]
  },
  {
   "cell_type": "code",
   "execution_count": 102,
   "id": "e7e3a864",
   "metadata": {},
   "outputs": [
    {
     "name": "stdout",
     "output_type": "stream",
     "text": [
      "60\n"
     ]
    }
   ],
   "source": [
    "f = sum()\n",
    "print(f)"
   ]
  },
  {
   "cell_type": "code",
   "execution_count": 103,
   "id": "4a1151c8",
   "metadata": {},
   "outputs": [],
   "source": [
    "def sub(a = 10,b = 15,c= 20):\n",
    "    return a - b - c"
   ]
  },
  {
   "cell_type": "code",
   "execution_count": 104,
   "id": "b06c97e0",
   "metadata": {},
   "outputs": [
    {
     "name": "stdout",
     "output_type": "stream",
     "text": [
      "-25\n"
     ]
    }
   ],
   "source": [
    "h = sub()\n",
    "print(h)"
   ]
  },
  {
   "cell_type": "code",
   "execution_count": 2,
   "id": "8ca1f283",
   "metadata": {},
   "outputs": [],
   "source": [
    "def is_even(num):\n",
    "    if num % 2 == 0:\n",
    "        return 'even'\n",
    "    else:\n",
    "        return 'odd'"
   ]
  },
  {
   "cell_type": "code",
   "execution_count": 3,
   "id": "49636132",
   "metadata": {},
   "outputs": [
    {
     "name": "stdout",
     "output_type": "stream",
     "text": [
      "odd\n",
      "even\n",
      "odd\n",
      "even\n",
      "odd\n",
      "even\n",
      "odd\n",
      "even\n",
      "odd\n",
      "even\n"
     ]
    }
   ],
   "source": [
    "for i in range(1,11):\n",
    "    x = is_even(i)\n",
    "    print(x)"
   ]
  },
  {
   "cell_type": "code",
   "execution_count": null,
   "id": "5b1bc246",
   "metadata": {},
   "outputs": [],
   "source": []
  }
 ],
 "metadata": {
  "kernelspec": {
   "display_name": "Python 3",
   "language": "python",
   "name": "python3"
  },
  "language_info": {
   "codemirror_mode": {
    "name": "ipython",
    "version": 3
   },
   "file_extension": ".py",
   "mimetype": "text/x-python",
   "name": "python",
   "nbconvert_exporter": "python",
   "pygments_lexer": "ipython3",
   "version": "3.12.4"
  }
 },
 "nbformat": 4,
 "nbformat_minor": 5
}
