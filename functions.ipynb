{
 "cells": [
  {
   "cell_type": "code",
   "execution_count": 2,
   "id": "1543186a",
   "metadata": {},
   "outputs": [],
   "source": [
    "def is_even(number):\n",
    "    \"\"\"\n",
    "   This fuction tells if a given number is odd or even input\n",
    "   any valid integer \n",
    "    \"\"\"\n",
    "    if number % 2 == 0:\n",
    "        return 'even'\n",
    "    else:\n",
    "        return 'odd'\n",
    "    \n",
    "    for i in range(1,11):\n",
    "        print(is_even(i))"
   ]
  },
  {
   "cell_type": "code",
   "execution_count": 3,
   "id": "5d9f9492",
   "metadata": {},
   "outputs": [
    {
     "name": "stdout",
     "output_type": "stream",
     "text": [
      "\n",
      "   This fuction tells if a given number is odd or even input\n",
      "   any valid integer \n",
      "    \n"
     ]
    }
   ],
   "source": [
    "print(is_even.__doc__)"
   ]
  },
  {
   "cell_type": "code",
   "execution_count": 4,
   "id": "7d700dea",
   "metadata": {},
   "outputs": [
    {
     "data": {
      "text/plain": [
       "81"
      ]
     },
     "execution_count": 4,
     "metadata": {},
     "output_type": "execute_result"
    }
   ],
   "source": [
    "x = lambda x:x**2\n",
    "x(9)"
   ]
  },
  {
   "cell_type": "code",
   "execution_count": 5,
   "id": "e69d4a31",
   "metadata": {},
   "outputs": [
    {
     "data": {
      "text/plain": [
       "9"
      ]
     },
     "execution_count": 5,
     "metadata": {},
     "output_type": "execute_result"
    }
   ],
   "source": [
    "x = lambda x,y:x+y\n",
    "x(4,5)"
   ]
  },
  {
   "cell_type": "code",
   "execution_count": 6,
   "id": "cca04552",
   "metadata": {},
   "outputs": [
    {
     "data": {
      "text/plain": [
       "function"
      ]
     },
     "execution_count": 6,
     "metadata": {},
     "output_type": "execute_result"
    }
   ],
   "source": [
    "type(x)"
   ]
  },
  {
   "cell_type": "code",
   "execution_count": 7,
   "id": "b5d14857",
   "metadata": {},
   "outputs": [
    {
     "data": {
      "text/plain": [
       "16"
      ]
     },
     "execution_count": 7,
     "metadata": {},
     "output_type": "execute_result"
    }
   ],
   "source": [
    "x = lambda x,y: x**y\n",
    "x(2,4)"
   ]
  },
  {
   "cell_type": "code",
   "execution_count": 8,
   "id": "07520e89",
   "metadata": {},
   "outputs": [],
   "source": [
    "def function_name(a,b):\n",
    "    # body of the function.\n",
    "    # code statement\n",
    "    result = a+b\n",
    "    return result"
   ]
  },
  {
   "cell_type": "code",
   "execution_count": null,
   "id": "5db3f9cb",
   "metadata": {},
   "outputs": [],
   "source": [
    "# Deafault Parameter\n",
    "\n",
    "def mobile(name=\"sumsung\":\n",
    "           )"
   ]
  }
 ],
 "metadata": {
  "kernelspec": {
   "display_name": "Python 3",
   "language": "python",
   "name": "python3"
  },
  "language_info": {
   "codemirror_mode": {
    "name": "ipython",
    "version": 3
   },
   "file_extension": ".py",
   "mimetype": "text/x-python",
   "name": "python",
   "nbconvert_exporter": "python",
   "pygments_lexer": "ipython3",
   "version": "3.12.4"
  }
 },
 "nbformat": 4,
 "nbformat_minor": 5
}
