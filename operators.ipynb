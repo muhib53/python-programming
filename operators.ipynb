{
 "cells": [
  {
   "cell_type": "code",
   "execution_count": 4,
   "id": "6348ccfc",
   "metadata": {},
   "outputs": [
    {
     "name": "stdout",
     "output_type": "stream",
     "text": [
      "11\n",
      "2\n",
      "0.8333333333333334\n",
      "0\n",
      "1\n",
      "25\n"
     ]
    }
   ],
   "source": [
    "# Arthimetic operators\n",
    "\n",
    "print(5+6)\n",
    "\n",
    "print(5-3)\n",
    "\n",
    "print(5/6)\n",
    "\n",
    "print(4//5)\n",
    "\n",
    "print(5%2)\n",
    "\n",
    "print(5**2)"
   ]
  },
  {
   "cell_type": "code",
   "execution_count": 5,
   "id": "63fb8a56",
   "metadata": {},
   "outputs": [
    {
     "name": "stdout",
     "output_type": "stream",
     "text": [
      "False\n"
     ]
    }
   ],
   "source": [
    "# Realational operators\n",
    "\n",
    "print(4>5)\n"
   ]
  },
  {
   "cell_type": "code",
   "execution_count": null,
   "id": "edd4297d",
   "metadata": {},
   "outputs": [],
   "source": [
    "# Logical operators\n",
    "\n"
   ]
  },
  {
   "cell_type": "code",
   "execution_count": null,
   "id": "b9e10461",
   "metadata": {},
   "outputs": [],
   "source": [
    "# Betwise operators\n",
    "\n"
   ]
  },
  {
   "cell_type": "code",
   "execution_count": null,
   "id": "0f4df349",
   "metadata": {},
   "outputs": [],
   "source": [
    "# Assignment operators"
   ]
  },
  {
   "cell_type": "code",
   "execution_count": 8,
   "id": "80864180",
   "metadata": {},
   "outputs": [
    {
     "name": "stdout",
     "output_type": "stream",
     "text": [
      "correct\n"
     ]
    }
   ],
   "source": [
    "# if else\n",
    "\n",
    "email = input('enter email')\n",
    "password = input('enter password')\n",
    "\n",
    "if email == 'fahim@gmail.com' and password == '2345':\n",
    "    print('correct')\n",
    "else:\n",
    "    print('not correct')"
   ]
  },
  {
   "cell_type": "code",
   "execution_count": 9,
   "id": "879d404e",
   "metadata": {},
   "outputs": [
    {
     "name": "stdout",
     "output_type": "stream",
     "text": [
      "barish\n"
     ]
    }
   ],
   "source": [
    "rain = input(\"barish hay\")\n",
    "badal = input('badal asman per hay')\n",
    "\n",
    "if rain == 'umbrella lay lo':\n",
    "    print('baraish hay')\n",
    "elif rain == 'badal asman per hay':\n",
    "    print('no barish')\n",
    "else:\n",
    "    print('barish')"
   ]
  },
  {
   "cell_type": "code",
   "execution_count": 10,
   "id": "ad53fea8",
   "metadata": {},
   "outputs": [
    {
     "name": "stdout",
     "output_type": "stream",
     "text": [
      "its warm\n"
     ]
    }
   ],
   "source": [
    "temp = 35\n",
    "\n",
    "if temp > 40:\n",
    "    print('its to a hot')\n",
    "elif temp > 25:\n",
    "    print('its warm')\n",
    "else:\n",
    "    print('its a cold')"
   ]
  },
  {
   "cell_type": "code",
   "execution_count": 11,
   "id": "82a0d6e0",
   "metadata": {},
   "outputs": [
    {
     "name": "stdout",
     "output_type": "stream",
     "text": [
      "you cannot vote in bannu\n"
     ]
    }
   ],
   "source": [
    "age = 14\n",
    "city = \"bannu\"\n",
    "\n",
    "if age>= 18:\n",
    "    if city == 'bannu':\n",
    "        print('you can vote in bannu')\n",
    "else:\n",
    "    print('you cannot vote in bannu')\n",
    "\n"
   ]
  },
  {
   "cell_type": "code",
   "execution_count": 1,
   "id": "8e53e3f6",
   "metadata": {},
   "outputs": [
    {
     "name": "stdout",
     "output_type": "stream",
     "text": [
      "0.6764705882352942\n"
     ]
    }
   ],
   "source": [
    "fnum = int(input('enter the 1st number'))\n",
    "snum = int(input('enter the 2st number'))\n",
    "\n",
    "op = input('enter the operation')\n",
    "\n",
    "if op == '+':\n",
    "    print(fnum+snum)\n",
    "elif op == '*':\n",
    "    print(fnum*snum)\n",
    "\n",
    "else:\n",
    "    print(fnum/snum)"
   ]
  },
  {
   "cell_type": "code",
   "execution_count": 2,
   "id": "cf243753",
   "metadata": {},
   "outputs": [
    {
     "name": "stdout",
     "output_type": "stream",
     "text": [
      "balance\n"
     ]
    }
   ],
   "source": [
    "menu = input(\"\"\"\n",
    "Hi! how can i help you\n",
    "1.enter 1 for pin change\n",
    "2.enter 2 for balance chek\n",
    "3.enter 3 for withdrawal\n",
    "4.enter 4 for exit       \n",
    "\"\"\")\n",
    "\n",
    "if menu == '1':\n",
    "    print('pin change')\n",
    "\n",
    "elif menu == '2':\n",
    "    print('balance')\n",
    "else:\n",
    "    print('exit')"
   ]
  },
  {
   "cell_type": "code",
   "execution_count": 7,
   "id": "917cf4d9",
   "metadata": {},
   "outputs": [
    {
     "data": {
      "text/plain": [
       "14.0"
      ]
     },
     "execution_count": 7,
     "metadata": {},
     "output_type": "execute_result"
    }
   ],
   "source": [
    "# Modules in python\n",
    "import math\n",
    "\n",
    "math.factorial(5)\n",
    "\n",
    "math.floor(6.8)\n",
    "\n",
    "math.sqrt(196)"
   ]
  },
  {
   "cell_type": "code",
   "execution_count": 8,
   "id": "26e1a637",
   "metadata": {},
   "outputs": [
    {
     "name": "stdout",
     "output_type": "stream",
     "text": [
      "['False', 'None', 'True', 'and', 'as', 'assert', 'async', 'await', 'break', 'class', 'continue', 'def', 'del', 'elif', 'else', 'except', 'finally', 'for', 'from', 'global', 'if', 'import', 'in', 'is', 'lambda', 'nonlocal', 'not', 'or', 'pass', 'raise', 'return', 'try', 'while', 'with', 'yield']\n"
     ]
    }
   ],
   "source": [
    "# keyword\n",
    "\n",
    "import keyword\n",
    "\n",
    "print(keyword.kwlist)"
   ]
  },
  {
   "cell_type": "code",
   "execution_count": 15,
   "id": "56c16c0f",
   "metadata": {},
   "outputs": [
    {
     "name": "stdout",
     "output_type": "stream",
     "text": [
      "53\n"
     ]
    }
   ],
   "source": [
    "# random\n",
    "import random\n",
    "print(random.randint(1,100))"
   ]
  },
  {
   "cell_type": "code",
   "execution_count": 16,
   "id": "fb7cf0bc",
   "metadata": {},
   "outputs": [
    {
     "name": "stdout",
     "output_type": "stream",
     "text": [
      "2025-10-25 20:35:18.484020\n"
     ]
    }
   ],
   "source": [
    "# Date time\n",
    "\n",
    "import datetime\n",
    "\n",
    "print(datetime.datetime.now())"
   ]
  },
  {
   "cell_type": "code",
   "execution_count": null,
   "id": "0f59a910",
   "metadata": {},
   "outputs": [
    {
     "name": "stdout",
     "output_type": "stream",
     "text": [
      "\n",
      "Please wait a moment while I gather a list of all available modules...\n",
      "\n",
      "test_sqlite3: testing with SQLite version 3.45.3\n"
     ]
    }
   ],
   "source": [
    "help('modules')"
   ]
  },
  {
   "cell_type": "markdown",
   "id": "2cc3e774",
   "metadata": {},
   "source": [
    "Loops in Python"
   ]
  },
  {
   "cell_type": "code",
   "execution_count": 3,
   "id": "19331722",
   "metadata": {},
   "outputs": [
    {
     "name": "stdout",
     "output_type": "stream",
     "text": [
      "12 * 1 = 12\n",
      "12 * 2 = 24\n",
      "12 * 3 = 36\n",
      "12 * 4 = 48\n",
      "12 * 5 = 60\n",
      "12 * 6 = 72\n",
      "12 * 7 = 84\n",
      "12 * 8 = 96\n",
      "12 * 9 = 108\n",
      "12 * 10 = 120\n"
     ]
    }
   ],
   "source": [
    "number = int(input('enter the  number'))\n",
    "\n",
    "i = 1\n",
    "while i<11:\n",
    "    print(number,'*',i,'=',number*i)\n",
    "    i+=1"
   ]
  },
  {
   "cell_type": "code",
   "execution_count": 4,
   "id": "4dff2613",
   "metadata": {},
   "outputs": [
    {
     "name": "stdout",
     "output_type": "stream",
     "text": [
      "1\n",
      "2\n",
      "limit crossed\n"
     ]
    }
   ],
   "source": [
    "x = 1\n",
    "\n",
    "while x < 3:\n",
    "    print(x)\n",
    "    x += 1\n",
    "\n",
    "else:\n",
    "    print('limit crossed')"
   ]
  },
  {
   "cell_type": "code",
   "execution_count": 8,
   "id": "dc1c2599",
   "metadata": {},
   "outputs": [
    {
     "name": "stdout",
     "output_type": "stream",
     "text": [
      "1\n",
      "2\n",
      "3\n",
      "4\n",
      "5\n",
      "6\n",
      "7\n",
      "8\n",
      "9\n",
      "10\n"
     ]
    }
   ],
   "source": [
    "muhib = 1\n",
    "while muhib < 11:\n",
    "    print(muhib)\n",
    "    muhib +=1\n"
   ]
  },
  {
   "cell_type": "code",
   "execution_count": 10,
   "id": "93eeac59",
   "metadata": {},
   "outputs": [
    {
     "name": "stdout",
     "output_type": "stream",
     "text": [
      "1\n",
      "2\n",
      "3\n",
      "4\n",
      "5\n"
     ]
    }
   ],
   "source": [
    "# for loop\n",
    "\n",
    "for b in range(1,6):\n",
    "    print(b)"
   ]
  },
  {
   "cell_type": "code",
   "execution_count": 12,
   "id": "d9e5f8fb",
   "metadata": {},
   "outputs": [
    {
     "name": "stdout",
     "output_type": "stream",
     "text": [
      "accer\n",
      "dell\n",
      "hp\n",
      "iphone\n"
     ]
    }
   ],
   "source": [
    "computers = ['accer','dell','hp','iphone']\n",
    "\n",
    "for computers in computers:\n",
    "    print(computers)"
   ]
  },
  {
   "cell_type": "code",
   "execution_count": 13,
   "id": "7c0dd919",
   "metadata": {},
   "outputs": [
    {
     "name": "stdout",
     "output_type": "stream",
     "text": [
      "p\n",
      "y\n",
      "t\n",
      "h\n",
      "o\n",
      "n\n"
     ]
    }
   ],
   "source": [
    "for ch in \"python\":\n",
    "    print(ch)"
   ]
  },
  {
   "cell_type": "code",
   "execution_count": 14,
   "id": "d2fb025d",
   "metadata": {},
   "outputs": [
    {
     "name": "stdout",
     "output_type": "stream",
     "text": [
      "0\n",
      "2\n",
      "4\n",
      "6\n",
      "8\n"
     ]
    }
   ],
   "source": [
    "for a in range(0,10,2):\n",
    "    print(a)"
   ]
  },
  {
   "cell_type": "code",
   "execution_count": null,
   "id": "4819ac58",
   "metadata": {},
   "outputs": [
    {
     "name": "stdout",
     "output_type": "stream",
     "text": [
      "1 1\n",
      "1 2\n",
      "1 3\n",
      "2 1\n",
      "2 2\n",
      "2 3\n",
      "3 1\n",
      "3 2\n",
      "3 3\n"
     ]
    }
   ],
   "source": [
    "# Nested loop(loop kay ander loop)\n",
    "for i in range(1,4):\n",
    "    for m in range(1,4):\n",
    "        print(i,m)"
   ]
  },
  {
   "cell_type": "code",
   "execution_count": 16,
   "id": "f54fc469",
   "metadata": {},
   "outputs": [
    {
     "name": "stdout",
     "output_type": "stream",
     "text": [
      "1\n",
      "2\n",
      "3\n",
      "4\n",
      "5\n"
     ]
    }
   ],
   "source": [
    "a = 1\n",
    "while a <= 5:\n",
    "    print(a)\n",
    "    a = a+1"
   ]
  },
  {
   "cell_type": "code",
   "execution_count": 18,
   "id": "36dcd22c",
   "metadata": {},
   "outputs": [
    {
     "name": "stdout",
     "output_type": "stream",
     "text": [
      "1\n",
      "2\n",
      "3\n",
      "4\n",
      "5\n"
     ]
    }
   ],
   "source": [
    "c = 1\n",
    "while c <= 10:\n",
    "    if c == 6:\n",
    "        break\n",
    "    print(c)\n",
    "    c+=1"
   ]
  },
  {
   "cell_type": "code",
   "execution_count": null,
   "id": "f3a4fa57",
   "metadata": {},
   "outputs": [],
   "source": []
  }
 ],
 "metadata": {
  "kernelspec": {
   "display_name": "Python 3",
   "language": "python",
   "name": "python3"
  },
  "language_info": {
   "codemirror_mode": {
    "name": "ipython",
    "version": 3
   },
   "file_extension": ".py",
   "mimetype": "text/x-python",
   "name": "python",
   "nbconvert_exporter": "python",
   "pygments_lexer": "ipython3",
   "version": "3.12.4"
  }
 },
 "nbformat": 4,
 "nbformat_minor": 5
}
